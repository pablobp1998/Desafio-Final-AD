{
 "cells": [
  {
   "cell_type": "markdown",
   "execution_count": null,
   "metadata": {},
   "outputs": [],
   "source": [
    "Autores:\n",
    "Pablo Berciano Posada - 100363964,\n",
    "Alejandra Coca Martín - 100346220,\n",
    "Andrés Muñoz Chico - 100363758, \n",
    "Hizán Saavedra Rodrigo - 100363953"
   ]
  },
  {
   "cell_type": "code",
   "execution_count": null,
   "metadata": {},
   "outputs": [],
   "source": [
    "import pandas as pd \n"
   ]
  }
 ],
 "metadata": {},
 "nbformat": 4,
 "nbformat_minor": 2
}