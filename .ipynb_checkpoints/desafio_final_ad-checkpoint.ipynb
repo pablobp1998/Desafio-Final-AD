{
 "cells": [
  {
   "cell_type": "raw",
   "metadata": {},
   "source": [
    "Autores:\n",
    "Pablo Berciano Posada 100363964\n",
    "Alejandra Coca Martín 100346220\n",
    "Andrés Muñoz Chico 100363758\n",
    "Hizán Saavedra Rodrigo 100363953"
   ]
  },
  {
   "cell_type": "code",
   "execution_count": null,
   "metadata": {
    "scrolled": true
   },
   "outputs": [],
   "source": [
    "import pandas as pd\n",
    "df = pd.read_csv('./Datos/datos_usuarios.csv',  sep=',', decimal='.')\n",
    "df = df.drop(['nombre'], axis=1)"
   ]
  },
  {
   "cell_type": "code",
   "execution_count": null,
   "metadata": {
    "scrolled": true
   },
   "outputs": [],
   "source": [
    "exp = []\n",
    "df = df.fillna('x')\n",
    "for i in range(len(df['experto'])):\n",
    "    if (df['experto'].iloc[i] != 'x' and type(df['experto'].iloc[i])==type(str())):\n",
    "        exp.append(len(df['experto'].iloc[i].split(',')))\n",
    "    if (df['experto'].iloc[i] == 'x'): \n",
    "        exp.append(0)\n",
    "    if (type(df['experto'].iloc[i])==float):\n",
    "        exp.append(1)\n",
    "df['experto'] = exp\n",
    "amigos = []\n",
    "for i in range(len(df['amigos'])):\n",
    "    if (df['amigos'].iloc[i] != 'x'):\n",
    "        amigos.append(len(df['amigos'].iloc[i].split(',')))\n",
    "    if (df['amigos'].iloc[i] == 'x'): \n",
    "        amigos.append(0)\n",
    "df['amigos'] = amigos"
   ]
  },
  {
   "cell_type": "code",
   "execution_count": null,
   "metadata": {},
   "outputs": [],
   "source": [
    "years = []\n",
    "for i in range(len(df['experto'])):\n",
    "    years.append(2018 - int(df['usuario_desde'].iloc[i][0:4]))\n",
    "df['usuario_antiguedad'] = years\n",
    "df = df.drop(['usuario_desde'], axis=1)"
   ]
  },
  {
   "cell_type": "code",
   "execution_count": null,
   "metadata": {},
   "outputs": [],
   "source": [
    "likes = []\n",
    "for i in range(len(df['like_moda'])):\n",
    "    likes.append(df['like_moda'].iloc[i]+df['like_extras'].iloc[i]+df['like_perfil'].iloc[i]+df['like_formato'].iloc[i]+df['like_lista'].iloc[i]+df['like_comentario'].iloc[i]+df['like_simple'].iloc[i]+df['like_guay'].iloc[i]+df['like_divertido'].iloc[i]+df['like_textos'].iloc[i]+df['like_fotos'].iloc[i])\n",
    "df['like_total'] = likes"
   ]
  },
  {
   "cell_type": "code",
   "execution_count": null,
   "metadata": {},
   "outputs": [],
   "source": [
    "import numpy as np \n",
    "import seaborn as sns\n",
    "import matplotlib.pyplot as plt\n",
    "# Generamos un pirplot que relacione la temperatura maxima con la cantidad media de CO\n",
    "sns.pairplot(df, vars=[\"like_total\", \"usuario_antiguedad\", \"experto\", \"seguidores\", \"amigos\"])\n",
    "plt.show()"
   ]
  },
  {
   "cell_type": "code",
   "execution_count": null,
   "metadata": {
    "scrolled": true
   },
   "outputs": [],
   "source": [
    "dataset_likes = df[ df['like_total'] >= 50000]\n",
    "dataset_likes.head(50)"
   ]
  },
  {
   "cell_type": "code",
   "execution_count": null,
   "metadata": {
    "scrolled": true
   },
   "outputs": [],
   "source": [
    "df['seguidores'].sort_values(ascending = False).head(50)"
   ]
  },
  {
   "cell_type": "code",
   "execution_count": null,
   "metadata": {
    "scrolled": true
   },
   "outputs": [],
   "source": [
    "df['num_opiniones'].sort_values(ascending = False).head(50)"
   ]
  },
  {
   "cell_type": "code",
   "execution_count": null,
   "metadata": {},
   "outputs": [],
   "source": [
    "dataset_top = df[ df['num_opiniones'] >= 1000]\n",
    "dataset_top1 = dataset_top[ dataset_top['seguidores']>=100]\n",
    "dataset_top.describe()"
   ]
  },
  {
   "cell_type": "code",
   "execution_count": null,
   "metadata": {},
   "outputs": [],
   "source": [
    "dataset_top1.describe()"
   ]
  },
  {
   "cell_type": "code",
   "execution_count": null,
   "metadata": {},
   "outputs": [],
   "source": [
    "dataset_max = df[ df['num_opiniones'] >= 9000]\n",
    "dataset_max.head(5)"
   ]
  },
  {
   "cell_type": "code",
   "execution_count": null,
   "metadata": {},
   "outputs": [],
   "source": [
    "df['media_puntuacion'].describe()"
   ]
  },
  {
   "cell_type": "code",
   "execution_count": null,
   "metadata": {},
   "outputs": [],
   "source": [
    "df['num_opiniones'].describe()"
   ]
  },
  {
   "cell_type": "code",
   "execution_count": null,
   "metadata": {},
   "outputs": [],
   "source": [
    "indexNames = df[ df['num_opiniones'] <= 20 ].index\n",
    "# Delete these row indexes from dataFrame\n",
    "df.drop(indexNames , inplace=True)"
   ]
  },
  {
   "cell_type": "code",
   "execution_count": null,
   "metadata": {},
   "outputs": [],
   "source": [
    "indexNames = df[ df['num_opiniones'] >= 1000 ].index\n",
    "# Delete these row indexes from dataFrame\n",
    "df.drop(indexNames , inplace=True)"
   ]
  },
  {
   "cell_type": "code",
   "execution_count": null,
   "metadata": {},
   "outputs": [],
   "source": [
    "df['num_opiniones'].describe()"
   ]
  },
  {
   "cell_type": "code",
   "execution_count": null,
   "metadata": {
    "scrolled": true
   },
   "outputs": [],
   "source": [
    "import math\n",
    "\n",
    "print(df['num_opiniones'].hist(bins=50, grid=False, figsize=(12,8), color='#86bf91', zorder=2, rwidth=0.9))"
   ]
  },
  {
   "cell_type": "code",
   "execution_count": null,
   "metadata": {},
   "outputs": [],
   "source": [
    "sns.distplot(df['util'], bins= 30, color=\"y\")\n",
    "plt.show()\n",
    "sns.distplot(df['gracioso'], bins= 30, color=\"y\")\n",
    "plt.show()\n",
    "sns.distplot(df['guay'], bins= 30, color=\"y\")\n",
    "plt.show()"
   ]
  },
  {
   "cell_type": "code",
   "execution_count": null,
   "metadata": {},
   "outputs": [],
   "source": []
  }
 ],
 "metadata": {
  "kernelspec": {
   "display_name": "Python 3",
   "language": "python",
   "name": "python3"
  },
  "language_info": {
   "codemirror_mode": {
    "name": "ipython",
    "version": 3
   },
   "file_extension": ".py",
   "mimetype": "text/x-python",
   "name": "python",
   "nbconvert_exporter": "python",
   "pygments_lexer": "ipython3",
   "version": "3.7.5"
  }
 },
 "nbformat": 4,
 "nbformat_minor": 2
}
