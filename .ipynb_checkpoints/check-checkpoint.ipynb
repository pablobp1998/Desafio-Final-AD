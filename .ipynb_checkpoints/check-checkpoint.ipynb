{
 "cells": [
  {
   "cell_type": "markdown",
   "metadata": {},
   "source": [
    "Autores:\n",
    "Pablo Berciano Posada, 100363964\n",
    "\n",
    "Alejandra Coca Martín, 100346220\n",
    "\n",
    "Andrés Muñoz Chico, 100363758\n",
    "\n",
    "Hizán Saavedra Rodrigo, 100363953"
   ]
  },
  {
   "cell_type": "markdown",
   "metadata": {},
   "source": [
    "<h1 id=\"tocheading\">Tabla de Contenidos</h1>\n",
    "<div id=\"toc\"></div>"
   ]
  },
  {
   "cell_type": "code",
   "execution_count": 24,
   "metadata": {},
   "outputs": [
    {
     "data": {
      "application/javascript": [
       "$.getScript('https://kmahelona.github.io/ipython_notebook_goodies/ipython_notebook_toc.js')"
      ],
      "text/plain": [
       "<IPython.core.display.Javascript object>"
      ]
     },
     "metadata": {},
     "output_type": "display_data"
    }
   ],
   "source": [
    "%%javascript\n",
    "$.getScript('https://kmahelona.github.io/ipython_notebook_goodies/ipython_notebook_toc.js')"
   ]
  },
  {
   "cell_type": "markdown",
   "metadata": {},
   "source": [
    "# Introducción\n",
    "\n",
    "Importamos las librerías necesarias, leemos los dos archivos que vamos a utilizar y fusionamos los _dataframes_. \n",
    "Hacemos la transformación de las inspecciones: en lugar de un conjunto de fechas en las que se han realizado, contaremos el número de inspecciones que se han hecho en cada negocio."
   ]
  },
  {
   "cell_type": "code",
   "execution_count": 25,
   "metadata": {},
   "outputs": [],
   "source": [
    "import pandas as pd\n",
    "import seaborn as sns\n",
    "import matplotlib.pyplot as plt\n",
    "df1 = pd.read_csv('./Datos/datos_check.csv', sep=',', decimal= '.', quotechar='\"')\n",
    "df2 = pd.read_csv ('./Datos/datos_negocios.csv', sep=',', decimal='.')\n",
    "df = pd.merge(df1, df2, on='negocio_id')\n",
    "df=df.drop(['abierto','negocio_id', 'direccion', 'ciudad', 'estado', 'codigo_postal', 'latitud', 'longitud', 'num_revisiones', 'atributos', 'categorias', 'horas'], axis=1)"
   ]
  },
  {
   "cell_type": "code",
   "execution_count": 26,
   "metadata": {},
   "outputs": [],
   "source": [
    "revis = []\n",
    "df = df.fillna('x')\n",
    "for i in range(len(df['fecha'])):\n",
    "    if (df['fecha'].iloc[i] != 'x' and type(df['fecha'].iloc[i])==type(str())):\n",
    "        revis.append(len(df['fecha'].iloc[i].split(',')))\n",
    "    if (df['fecha'].iloc[i] == 'x'): \n",
    "        exp.append(0)\n",
    "    if (type(df['fecha'].iloc[i])==float):\n",
    "        exp.append(1)\n",
    "df['fecha'] = revis\n",
    "df.rename(columns={'fecha':'inspecciones'}, \n",
    "                 inplace=True)"
   ]
  },
  {
   "cell_type": "markdown",
   "metadata": {},
   "source": [
    "# Análisis\n",
    "\n",
    "El _dataset_ resultante contiene la puntuación media de un negocio y el número de inspecciones del mismo. Queremos ver si se aprecia alguna relación entre las inspecciones y la puntuación media de un negocio."
   ]
  },
  {
   "cell_type": "code",
   "execution_count": 27,
   "metadata": {},
   "outputs": [
    {
     "data": {
      "text/html": [
       "<div>\n",
       "<style scoped>\n",
       "    .dataframe tbody tr th:only-of-type {\n",
       "        vertical-align: middle;\n",
       "    }\n",
       "\n",
       "    .dataframe tbody tr th {\n",
       "        vertical-align: top;\n",
       "    }\n",
       "\n",
       "    .dataframe thead th {\n",
       "        text-align: right;\n",
       "    }\n",
       "</style>\n",
       "<table border=\"1\" class=\"dataframe\">\n",
       "  <thead>\n",
       "    <tr style=\"text-align: right;\">\n",
       "      <th></th>\n",
       "      <th>inspecciones</th>\n",
       "      <th>nombre</th>\n",
       "      <th>puntuacion</th>\n",
       "    </tr>\n",
       "  </thead>\n",
       "  <tbody>\n",
       "    <tr>\n",
       "      <th>42142</th>\n",
       "      <td>143061</td>\n",
       "      <td>McCarran International Airport</td>\n",
       "      <td>3.5</td>\n",
       "    </tr>\n",
       "    <tr>\n",
       "      <th>52735</th>\n",
       "      <td>123126</td>\n",
       "      <td>Phoenix Sky Harbor International Airport</td>\n",
       "      <td>3.5</td>\n",
       "    </tr>\n",
       "    <tr>\n",
       "      <th>157953</th>\n",
       "      <td>54787</td>\n",
       "      <td>Charlotte Douglas International Airport</td>\n",
       "      <td>3.5</td>\n",
       "    </tr>\n",
       "    <tr>\n",
       "      <th>15955</th>\n",
       "      <td>46384</td>\n",
       "      <td>The Cosmopolitan of Las Vegas</td>\n",
       "      <td>4.0</td>\n",
       "    </tr>\n",
       "    <tr>\n",
       "      <th>49667</th>\n",
       "      <td>38277</td>\n",
       "      <td>Kung Fu Tea</td>\n",
       "      <td>4.5</td>\n",
       "    </tr>\n",
       "    <tr>\n",
       "      <th>74469</th>\n",
       "      <td>34353</td>\n",
       "      <td>ARIA Resort &amp; Casino</td>\n",
       "      <td>3.5</td>\n",
       "    </tr>\n",
       "    <tr>\n",
       "      <th>86134</th>\n",
       "      <td>32343</td>\n",
       "      <td>The Venetian Las Vegas</td>\n",
       "      <td>4.0</td>\n",
       "    </tr>\n",
       "    <tr>\n",
       "      <th>130714</th>\n",
       "      <td>31185</td>\n",
       "      <td>Bellagio Hotel</td>\n",
       "      <td>3.5</td>\n",
       "    </tr>\n",
       "    <tr>\n",
       "      <th>83644</th>\n",
       "      <td>30782</td>\n",
       "      <td>Caesars Palace Las Vegas Hotel &amp; Casino</td>\n",
       "      <td>3.0</td>\n",
       "    </tr>\n",
       "    <tr>\n",
       "      <th>39989</th>\n",
       "      <td>30098</td>\n",
       "      <td>MGM Grand Hotel</td>\n",
       "      <td>3.0</td>\n",
       "    </tr>\n",
       "    <tr>\n",
       "      <th>71652</th>\n",
       "      <td>28872</td>\n",
       "      <td>Bacchanal Buffet</td>\n",
       "      <td>4.0</td>\n",
       "    </tr>\n",
       "    <tr>\n",
       "      <th>31231</th>\n",
       "      <td>25878</td>\n",
       "      <td>Planet Hollywood Las Vegas Resort &amp; Casino</td>\n",
       "      <td>3.0</td>\n",
       "    </tr>\n",
       "    <tr>\n",
       "      <th>37419</th>\n",
       "      <td>25835</td>\n",
       "      <td>Earl of Sandwich</td>\n",
       "      <td>4.5</td>\n",
       "    </tr>\n",
       "    <tr>\n",
       "      <th>106910</th>\n",
       "      <td>25612</td>\n",
       "      <td>Mandalay Bay Resort &amp; Casino</td>\n",
       "      <td>3.0</td>\n",
       "    </tr>\n",
       "    <tr>\n",
       "      <th>115872</th>\n",
       "      <td>25416</td>\n",
       "      <td>Gangnam Asian BBQ Dining</td>\n",
       "      <td>4.5</td>\n",
       "    </tr>\n",
       "    <tr>\n",
       "      <th>147453</th>\n",
       "      <td>22790</td>\n",
       "      <td>The Palazzo Las Vegas</td>\n",
       "      <td>4.0</td>\n",
       "    </tr>\n",
       "    <tr>\n",
       "      <th>113978</th>\n",
       "      <td>22482</td>\n",
       "      <td>Town Square Las Vegas</td>\n",
       "      <td>4.0</td>\n",
       "    </tr>\n",
       "    <tr>\n",
       "      <th>144269</th>\n",
       "      <td>22393</td>\n",
       "      <td>Wynn Las Vegas</td>\n",
       "      <td>4.0</td>\n",
       "    </tr>\n",
       "    <tr>\n",
       "      <th>53674</th>\n",
       "      <td>22225</td>\n",
       "      <td>Wicked Spoon</td>\n",
       "      <td>3.5</td>\n",
       "    </tr>\n",
       "    <tr>\n",
       "      <th>13347</th>\n",
       "      <td>20674</td>\n",
       "      <td>Mon Ami Gabi</td>\n",
       "      <td>4.0</td>\n",
       "    </tr>\n",
       "    <tr>\n",
       "      <th>72824</th>\n",
       "      <td>20245</td>\n",
       "      <td>Red Rock Casino Resort &amp; Spa</td>\n",
       "      <td>3.5</td>\n",
       "    </tr>\n",
       "    <tr>\n",
       "      <th>89235</th>\n",
       "      <td>19669</td>\n",
       "      <td>Las Vegas Athletic Club</td>\n",
       "      <td>3.0</td>\n",
       "    </tr>\n",
       "    <tr>\n",
       "      <th>1955</th>\n",
       "      <td>18944</td>\n",
       "      <td>Toronto Pearson International Airport</td>\n",
       "      <td>3.0</td>\n",
       "    </tr>\n",
       "    <tr>\n",
       "      <th>118379</th>\n",
       "      <td>18801</td>\n",
       "      <td>Paris Las Vegas Hotel &amp; Casino</td>\n",
       "      <td>3.0</td>\n",
       "    </tr>\n",
       "    <tr>\n",
       "      <th>48699</th>\n",
       "      <td>18644</td>\n",
       "      <td>Fashion Show</td>\n",
       "      <td>4.0</td>\n",
       "    </tr>\n",
       "    <tr>\n",
       "      <th>117108</th>\n",
       "      <td>17951</td>\n",
       "      <td>Secret Pizza</td>\n",
       "      <td>4.0</td>\n",
       "    </tr>\n",
       "    <tr>\n",
       "      <th>138725</th>\n",
       "      <td>17588</td>\n",
       "      <td>New York New York Hotel &amp; Casino</td>\n",
       "      <td>3.0</td>\n",
       "    </tr>\n",
       "    <tr>\n",
       "      <th>43886</th>\n",
       "      <td>17441</td>\n",
       "      <td>Las Vegas North Premium Outlets</td>\n",
       "      <td>4.0</td>\n",
       "    </tr>\n",
       "    <tr>\n",
       "      <th>158633</th>\n",
       "      <td>17367</td>\n",
       "      <td>Pho Kim Long</td>\n",
       "      <td>3.5</td>\n",
       "    </tr>\n",
       "    <tr>\n",
       "      <th>69872</th>\n",
       "      <td>17288</td>\n",
       "      <td>Nacho Daddy</td>\n",
       "      <td>4.5</td>\n",
       "    </tr>\n",
       "    <tr>\n",
       "      <th>...</th>\n",
       "      <td>...</td>\n",
       "      <td>...</td>\n",
       "      <td>...</td>\n",
       "    </tr>\n",
       "    <tr>\n",
       "      <th>105445</th>\n",
       "      <td>1</td>\n",
       "      <td>Sushi Eaton</td>\n",
       "      <td>1.5</td>\n",
       "    </tr>\n",
       "    <tr>\n",
       "      <th>105443</th>\n",
       "      <td>1</td>\n",
       "      <td>Paws Whiskers &amp; Wags</td>\n",
       "      <td>5.0</td>\n",
       "    </tr>\n",
       "    <tr>\n",
       "      <th>3186</th>\n",
       "      <td>1</td>\n",
       "      <td>Envious Extensions</td>\n",
       "      <td>3.5</td>\n",
       "    </tr>\n",
       "    <tr>\n",
       "      <th>148417</th>\n",
       "      <td>1</td>\n",
       "      <td>Restaurant Dorion</td>\n",
       "      <td>4.0</td>\n",
       "    </tr>\n",
       "    <tr>\n",
       "      <th>148418</th>\n",
       "      <td>1</td>\n",
       "      <td>Change</td>\n",
       "      <td>5.0</td>\n",
       "    </tr>\n",
       "    <tr>\n",
       "      <th>12909</th>\n",
       "      <td>1</td>\n",
       "      <td>A Taste of Silk BBQ</td>\n",
       "      <td>5.0</td>\n",
       "    </tr>\n",
       "    <tr>\n",
       "      <th>29390</th>\n",
       "      <td>1</td>\n",
       "      <td>Pizza Burgh</td>\n",
       "      <td>3.0</td>\n",
       "    </tr>\n",
       "    <tr>\n",
       "      <th>105400</th>\n",
       "      <td>1</td>\n",
       "      <td>Nails by Wendy Bailey</td>\n",
       "      <td>4.0</td>\n",
       "    </tr>\n",
       "    <tr>\n",
       "      <th>148426</th>\n",
       "      <td>1</td>\n",
       "      <td>Audio Visions</td>\n",
       "      <td>2.5</td>\n",
       "    </tr>\n",
       "    <tr>\n",
       "      <th>148428</th>\n",
       "      <td>1</td>\n",
       "      <td>Abra Auto Body Repair of America</td>\n",
       "      <td>2.5</td>\n",
       "    </tr>\n",
       "    <tr>\n",
       "      <th>105394</th>\n",
       "      <td>1</td>\n",
       "      <td>Best Cuts</td>\n",
       "      <td>3.5</td>\n",
       "    </tr>\n",
       "    <tr>\n",
       "      <th>105391</th>\n",
       "      <td>1</td>\n",
       "      <td>The Azteca</td>\n",
       "      <td>4.0</td>\n",
       "    </tr>\n",
       "    <tr>\n",
       "      <th>12917</th>\n",
       "      <td>1</td>\n",
       "      <td>Builders United</td>\n",
       "      <td>5.0</td>\n",
       "    </tr>\n",
       "    <tr>\n",
       "      <th>105382</th>\n",
       "      <td>1</td>\n",
       "      <td>Carolinas Weight Management &amp; Wellness Center</td>\n",
       "      <td>2.5</td>\n",
       "    </tr>\n",
       "    <tr>\n",
       "      <th>12937</th>\n",
       "      <td>1</td>\n",
       "      <td>KMH Photography</td>\n",
       "      <td>5.0</td>\n",
       "    </tr>\n",
       "    <tr>\n",
       "      <th>148435</th>\n",
       "      <td>1</td>\n",
       "      <td>Drew Asphalt Paving</td>\n",
       "      <td>5.0</td>\n",
       "    </tr>\n",
       "    <tr>\n",
       "      <th>148436</th>\n",
       "      <td>1</td>\n",
       "      <td>Le Balcon</td>\n",
       "      <td>3.5</td>\n",
       "    </tr>\n",
       "    <tr>\n",
       "      <th>105376</th>\n",
       "      <td>1</td>\n",
       "      <td>Sprint Store by Connectivity Source</td>\n",
       "      <td>4.5</td>\n",
       "    </tr>\n",
       "    <tr>\n",
       "      <th>3180</th>\n",
       "      <td>1</td>\n",
       "      <td>RE/MAX Infinity-Main Office</td>\n",
       "      <td>1.5</td>\n",
       "    </tr>\n",
       "    <tr>\n",
       "      <th>148439</th>\n",
       "      <td>1</td>\n",
       "      <td>Promenade Greene</td>\n",
       "      <td>2.0</td>\n",
       "    </tr>\n",
       "    <tr>\n",
       "      <th>33180</th>\n",
       "      <td>1</td>\n",
       "      <td>Magnolia Nail &amp; Spa</td>\n",
       "      <td>4.0</td>\n",
       "    </tr>\n",
       "    <tr>\n",
       "      <th>105374</th>\n",
       "      <td>1</td>\n",
       "      <td>Callahan Auto &amp; Diesel</td>\n",
       "      <td>3.5</td>\n",
       "    </tr>\n",
       "    <tr>\n",
       "      <th>105357</th>\n",
       "      <td>1</td>\n",
       "      <td>Nouilles Etc</td>\n",
       "      <td>3.5</td>\n",
       "    </tr>\n",
       "    <tr>\n",
       "      <th>105355</th>\n",
       "      <td>1</td>\n",
       "      <td>Ocotillo Kindercare</td>\n",
       "      <td>3.0</td>\n",
       "    </tr>\n",
       "    <tr>\n",
       "      <th>105345</th>\n",
       "      <td>1</td>\n",
       "      <td>A M P Moto Works</td>\n",
       "      <td>5.0</td>\n",
       "    </tr>\n",
       "    <tr>\n",
       "      <th>105335</th>\n",
       "      <td>1</td>\n",
       "      <td>Nail Depot &amp; Spa</td>\n",
       "      <td>3.5</td>\n",
       "    </tr>\n",
       "    <tr>\n",
       "      <th>105334</th>\n",
       "      <td>1</td>\n",
       "      <td>Grandma's Dog Day Care</td>\n",
       "      <td>4.5</td>\n",
       "    </tr>\n",
       "    <tr>\n",
       "      <th>43182</th>\n",
       "      <td>1</td>\n",
       "      <td>Pup Pup and Away</td>\n",
       "      <td>4.5</td>\n",
       "    </tr>\n",
       "    <tr>\n",
       "      <th>105331</th>\n",
       "      <td>1</td>\n",
       "      <td>Palm Crest at Station 40</td>\n",
       "      <td>2.0</td>\n",
       "    </tr>\n",
       "    <tr>\n",
       "      <th>54905</th>\n",
       "      <td>1</td>\n",
       "      <td>Eclipse Window Coverings</td>\n",
       "      <td>5.0</td>\n",
       "    </tr>\n",
       "  </tbody>\n",
       "</table>\n",
       "<p>161950 rows × 3 columns</p>\n",
       "</div>"
      ],
      "text/plain": [
       "        inspecciones                                         nombre  \\\n",
       "42142         143061                 McCarran International Airport   \n",
       "52735         123126       Phoenix Sky Harbor International Airport   \n",
       "157953         54787        Charlotte Douglas International Airport   \n",
       "15955          46384                  The Cosmopolitan of Las Vegas   \n",
       "49667          38277                                    Kung Fu Tea   \n",
       "74469          34353                           ARIA Resort & Casino   \n",
       "86134          32343                         The Venetian Las Vegas   \n",
       "130714         31185                                 Bellagio Hotel   \n",
       "83644          30782        Caesars Palace Las Vegas Hotel & Casino   \n",
       "39989          30098                                MGM Grand Hotel   \n",
       "71652          28872                               Bacchanal Buffet   \n",
       "31231          25878     Planet Hollywood Las Vegas Resort & Casino   \n",
       "37419          25835                               Earl of Sandwich   \n",
       "106910         25612                   Mandalay Bay Resort & Casino   \n",
       "115872         25416                       Gangnam Asian BBQ Dining   \n",
       "147453         22790                          The Palazzo Las Vegas   \n",
       "113978         22482                          Town Square Las Vegas   \n",
       "144269         22393                                 Wynn Las Vegas   \n",
       "53674          22225                                   Wicked Spoon   \n",
       "13347          20674                                   Mon Ami Gabi   \n",
       "72824          20245                   Red Rock Casino Resort & Spa   \n",
       "89235          19669                        Las Vegas Athletic Club   \n",
       "1955           18944          Toronto Pearson International Airport   \n",
       "118379         18801                 Paris Las Vegas Hotel & Casino   \n",
       "48699          18644                                   Fashion Show   \n",
       "117108         17951                                   Secret Pizza   \n",
       "138725         17588               New York New York Hotel & Casino   \n",
       "43886          17441                Las Vegas North Premium Outlets   \n",
       "158633         17367                                   Pho Kim Long   \n",
       "69872          17288                                    Nacho Daddy   \n",
       "...              ...                                            ...   \n",
       "105445             1                                    Sushi Eaton   \n",
       "105443             1                           Paws Whiskers & Wags   \n",
       "3186               1                             Envious Extensions   \n",
       "148417             1                              Restaurant Dorion   \n",
       "148418             1                                         Change   \n",
       "12909              1                            A Taste of Silk BBQ   \n",
       "29390              1                                    Pizza Burgh   \n",
       "105400             1                          Nails by Wendy Bailey   \n",
       "148426             1                                  Audio Visions   \n",
       "148428             1               Abra Auto Body Repair of America   \n",
       "105394             1                                      Best Cuts   \n",
       "105391             1                                     The Azteca   \n",
       "12917              1                                Builders United   \n",
       "105382             1  Carolinas Weight Management & Wellness Center   \n",
       "12937              1                                KMH Photography   \n",
       "148435             1                            Drew Asphalt Paving   \n",
       "148436             1                                      Le Balcon   \n",
       "105376             1            Sprint Store by Connectivity Source   \n",
       "3180               1                    RE/MAX Infinity-Main Office   \n",
       "148439             1                               Promenade Greene   \n",
       "33180              1                            Magnolia Nail & Spa   \n",
       "105374             1                         Callahan Auto & Diesel   \n",
       "105357             1                                   Nouilles Etc   \n",
       "105355             1                            Ocotillo Kindercare   \n",
       "105345             1                               A M P Moto Works   \n",
       "105335             1                               Nail Depot & Spa   \n",
       "105334             1                         Grandma's Dog Day Care   \n",
       "43182              1                               Pup Pup and Away   \n",
       "105331             1                       Palm Crest at Station 40   \n",
       "54905              1                       Eclipse Window Coverings   \n",
       "\n",
       "        puntuacion  \n",
       "42142          3.5  \n",
       "52735          3.5  \n",
       "157953         3.5  \n",
       "15955          4.0  \n",
       "49667          4.5  \n",
       "74469          3.5  \n",
       "86134          4.0  \n",
       "130714         3.5  \n",
       "83644          3.0  \n",
       "39989          3.0  \n",
       "71652          4.0  \n",
       "31231          3.0  \n",
       "37419          4.5  \n",
       "106910         3.0  \n",
       "115872         4.5  \n",
       "147453         4.0  \n",
       "113978         4.0  \n",
       "144269         4.0  \n",
       "53674          3.5  \n",
       "13347          4.0  \n",
       "72824          3.5  \n",
       "89235          3.0  \n",
       "1955           3.0  \n",
       "118379         3.0  \n",
       "48699          4.0  \n",
       "117108         4.0  \n",
       "138725         3.0  \n",
       "43886          4.0  \n",
       "158633         3.5  \n",
       "69872          4.5  \n",
       "...            ...  \n",
       "105445         1.5  \n",
       "105443         5.0  \n",
       "3186           3.5  \n",
       "148417         4.0  \n",
       "148418         5.0  \n",
       "12909          5.0  \n",
       "29390          3.0  \n",
       "105400         4.0  \n",
       "148426         2.5  \n",
       "148428         2.5  \n",
       "105394         3.5  \n",
       "105391         4.0  \n",
       "12917          5.0  \n",
       "105382         2.5  \n",
       "12937          5.0  \n",
       "148435         5.0  \n",
       "148436         3.5  \n",
       "105376         4.5  \n",
       "3180           1.5  \n",
       "148439         2.0  \n",
       "33180          4.0  \n",
       "105374         3.5  \n",
       "105357         3.5  \n",
       "105355         3.0  \n",
       "105345         5.0  \n",
       "105335         3.5  \n",
       "105334         4.5  \n",
       "43182          4.5  \n",
       "105331         2.0  \n",
       "54905          5.0  \n",
       "\n",
       "[161950 rows x 3 columns]"
      ]
     },
     "execution_count": 27,
     "metadata": {},
     "output_type": "execute_result"
    }
   ],
   "source": [
    "df.sort_values(['inspecciones'],ascending = False)"
   ]
  },
  {
   "cell_type": "markdown",
   "metadata": {},
   "source": [
    "Como podemos observar, los negocios que más inspecciones tienen son lugares de muy alto tránsito: hoteles, casinos, restaurantes grandes y aeropuertos."
   ]
  },
  {
   "cell_type": "markdown",
   "metadata": {},
   "source": [
    "## Sobre todo el conjunto de datos"
   ]
  },
  {
   "cell_type": "code",
   "execution_count": 28,
   "metadata": {
    "scrolled": false
   },
   "outputs": [
    {
     "data": {
      "image/png": "[encoded data removed]",
      "text/plain": [
       "<Figure size 360x360 with 6 Axes>"
      ]
     },
     "metadata": {},
     "output_type": "display_data"
    }
   ],
   "source": [
    "sns.set(style=\"ticks\", color_codes=True)\n",
    "sns.pairplot(df)\n",
    "plt.show()"
   ]
  },
  {
   "cell_type": "markdown",
   "metadata": {},
   "source": [
    "Al sacar el diagrama de dispersión de la puntuación frente a las inspecciones, observamos que todos los negocios con más de 35000 revisiones superan las 3 estrellas. Sin embargo, vemos que estos datos no son comunes, y no son representativos del conjunto completo."
   ]
  },
  {
   "cell_type": "code",
   "execution_count": 29,
   "metadata": {
    "scrolled": false
   },
   "outputs": [
    {
     "data": {
      "text/html": [
       "<div>\n",
       "<style scoped>\n",
       "    .dataframe tbody tr th:only-of-type {\n",
       "        vertical-align: middle;\n",
       "    }\n",
       "\n",
       "    .dataframe tbody tr th {\n",
       "        vertical-align: top;\n",
       "    }\n",
       "\n",
       "    .dataframe thead th {\n",
       "        text-align: right;\n",
       "    }\n",
       "</style>\n",
       "<table border=\"1\" class=\"dataframe\">\n",
       "  <thead>\n",
       "    <tr style=\"text-align: right;\">\n",
       "      <th></th>\n",
       "      <th>inspecciones</th>\n",
       "      <th>puntuacion</th>\n",
       "    </tr>\n",
       "  </thead>\n",
       "  <tbody>\n",
       "    <tr>\n",
       "      <th>count</th>\n",
       "      <td>161950.000000</td>\n",
       "      <td>161950.00000</td>\n",
       "    </tr>\n",
       "    <tr>\n",
       "      <th>mean</th>\n",
       "      <td>117.870627</td>\n",
       "      <td>3.58393</td>\n",
       "    </tr>\n",
       "    <tr>\n",
       "      <th>std</th>\n",
       "      <td>733.721561</td>\n",
       "      <td>0.95068</td>\n",
       "    </tr>\n",
       "    <tr>\n",
       "      <th>min</th>\n",
       "      <td>1.000000</td>\n",
       "      <td>1.00000</td>\n",
       "    </tr>\n",
       "    <tr>\n",
       "      <th>25%</th>\n",
       "      <td>5.000000</td>\n",
       "      <td>3.00000</td>\n",
       "    </tr>\n",
       "    <tr>\n",
       "      <th>50%</th>\n",
       "      <td>16.000000</td>\n",
       "      <td>3.50000</td>\n",
       "    </tr>\n",
       "    <tr>\n",
       "      <th>75%</th>\n",
       "      <td>65.000000</td>\n",
       "      <td>4.50000</td>\n",
       "    </tr>\n",
       "    <tr>\n",
       "      <th>max</th>\n",
       "      <td>143061.000000</td>\n",
       "      <td>5.00000</td>\n",
       "    </tr>\n",
       "  </tbody>\n",
       "</table>\n",
       "</div>"
      ],
      "text/plain": [
       "        inspecciones    puntuacion\n",
       "count  161950.000000  161950.00000\n",
       "mean      117.870627       3.58393\n",
       "std       733.721561       0.95068\n",
       "min         1.000000       1.00000\n",
       "25%         5.000000       3.00000\n",
       "50%        16.000000       3.50000\n",
       "75%        65.000000       4.50000\n",
       "max    143061.000000       5.00000"
      ]
     },
     "execution_count": 29,
     "metadata": {},
     "output_type": "execute_result"
    }
   ],
   "source": [
    "df.describe()"
   ]
  },
  {
   "cell_type": "markdown",
   "metadata": {},
   "source": [
    "## Sobre un conjunto más representativo\n",
    "\n",
    "El 75% de los datos tienen menos de 65 inspecciones. Si eliminamos las instancias de más de 100 inspecciones, podremos obtener representaciones más significativas."
   ]
  },
  {
   "cell_type": "code",
   "execution_count": 30,
   "metadata": {
    "scrolled": true
   },
   "outputs": [
    {
     "data": {
      "image/png": "[encoded data removed]",
      "text/plain": [
       "<Figure size 360x360 with 6 Axes>"
      ]
     },
     "metadata": {},
     "output_type": "display_data"
    }
   ],
   "source": [
    "df = df[df['inspecciones']<100]\n",
    "sns.set(style=\"ticks\", color_codes=True)\n",
    "sns.pairplot(df)\n",
    "plt.show()"
   ]
  },
  {
   "cell_type": "markdown",
   "metadata": {},
   "source": [
    "En esta gráfica podemos observar que la distribución, en realidad, es bastante uniforme."
   ]
  },
  {
   "cell_type": "code",
   "execution_count": 31,
   "metadata": {
    "scrolled": true
   },
   "outputs": [
    {
     "data": {
      "text/plain": [
       "<matplotlib.axes._subplots.AxesSubplot at 0x122a92190>"
      ]
     },
     "execution_count": 31,
     "metadata": {},
     "output_type": "execute_result"
    },
    {
     "data": {
      "image/png": "[encoded data removed]",
      "text/plain": [
       "<Figure size 432x288 with 1 Axes>"
      ]
     },
     "metadata": {},
     "output_type": "display_data"
    }
   ],
   "source": [
    "sns.distplot(df['inspecciones'], kde=True)"
   ]
  },
  {
   "cell_type": "markdown",
   "metadata": {},
   "source": [
    "## Observaciones adicionales\n",
    "\n",
    "Lo más habitual es que los negocios tengan una sola inspección. "
   ]
  },
  {
   "cell_type": "code",
   "execution_count": 32,
   "metadata": {},
   "outputs": [
    {
     "data": {
      "text/plain": [
       "<matplotlib.axes._subplots.AxesSubplot at 0x121615e90>"
      ]
     },
     "execution_count": 32,
     "metadata": {},
     "output_type": "execute_result"
    },
    {
     "data": {
      "image/png": "[encoded data removed]",
      "text/plain": [
       "<Figure size 432x288 with 1 Axes>"
      ]
     },
     "metadata": {},
     "output_type": "display_data"
    }
   ],
   "source": [
    "df1 = df[df['inspecciones'] == 1]\n",
    "sns.distplot(df1['puntuacion'], kde=True)"
   ]
  },
  {
   "cell_type": "markdown",
   "metadata": {},
   "source": [
    "Lo más habitual en estos negocios es que tengan la mejor nota, 5 estrellas."
   ]
  },
  {
   "cell_type": "code",
   "execution_count": 33,
   "metadata": {},
   "outputs": [
    {
     "data": {
      "text/plain": [
       "<matplotlib.axes._subplots.AxesSubplot at 0x130c217d0>"
      ]
     },
     "execution_count": 33,
     "metadata": {},
     "output_type": "execute_result"
    },
    {
     "data": {
      "image/png": "[encoded data removed]",
      "text/plain": [
       "<Figure size 432x288 with 1 Axes>"
      ]
     },
     "metadata": {},
     "output_type": "display_data"
    }
   ],
   "source": [
    "sns.distplot(df['puntuacion'], kde=True)"
   ]
  },
  {
   "cell_type": "markdown",
   "metadata": {},
   "source": [
    "Por otro lado, la nota más habitual en el resto de negocios es un 4."
   ]
  }
 ],
 "metadata": {
  "kernelspec": {
   "display_name": "Python 2",
   "language": "python",
   "name": "python2"
  },
  "language_info": {
   "codemirror_mode": {
    "name": "ipython",
    "version": 2
   },
   "file_extension": ".py",
   "mimetype": "text/x-python",
   "name": "python",
   "nbconvert_exporter": "python",
   "pygments_lexer": "ipython2",
   "version": "2.7.16"
  }
 },
 "nbformat": 4,
 "nbformat_minor": 2
}
